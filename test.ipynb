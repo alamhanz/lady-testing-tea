{
 "cells": [
  {
   "cell_type": "code",
   "execution_count": 1,
   "id": "39e00fec-2555-4e00-bce0-1082a7748675",
   "metadata": {},
   "outputs": [],
   "source": [
    "populasi = ['A']*50 + ['B']*20 + ['C']*15 + ['D']*15"
   ]
  },
  {
   "cell_type": "code",
   "execution_count": 3,
   "id": "8f8233ac-ee76-4ebf-a522-a21632d1fa8b",
   "metadata": {},
   "outputs": [],
   "source": [
    "# populasi"
   ]
  },
  {
   "cell_type": "code",
   "execution_count": 4,
   "id": "3e3b4895-a920-437e-aae0-cc43dde0aa3e",
   "metadata": {},
   "outputs": [],
   "source": [
    "import random"
   ]
  },
  {
   "cell_type": "code",
   "execution_count": 6,
   "id": "54b1be87-1e96-4d3e-a3bb-7a3e02e05d23",
   "metadata": {},
   "outputs": [
    {
     "data": {
      "text/plain": [
       "0.5"
      ]
     },
     "execution_count": 6,
     "metadata": {},
     "output_type": "execute_result"
    }
   ],
   "source": [
    "populasi.count('A')/len(populasi)"
   ]
  },
  {
   "cell_type": "code",
   "execution_count": 30,
   "id": "67f7075b-8371-4800-aac7-ff13f7c0b0a5",
   "metadata": {},
   "outputs": [],
   "source": [
    "sample = random.choices(populasi,k=10)"
   ]
  },
  {
   "cell_type": "code",
   "execution_count": 31,
   "id": "7673bfeb-10d6-49f1-ac2f-703ac6094221",
   "metadata": {},
   "outputs": [
    {
     "data": {
      "text/plain": [
       "0.6"
      ]
     },
     "execution_count": 31,
     "metadata": {},
     "output_type": "execute_result"
    }
   ],
   "source": [
    "sample.count('A')/len(sample)"
   ]
  },
  {
   "cell_type": "code",
   "execution_count": null,
   "id": "cee6a061-4d44-4759-b866-b08da6f3b1f5",
   "metadata": {},
   "outputs": [],
   "source": []
  }
 ],
 "metadata": {
  "kernelspec": {
   "display_name": "droid1",
   "language": "python",
   "name": "droid1"
  },
  "language_info": {
   "codemirror_mode": {
    "name": "ipython",
    "version": 3
   },
   "file_extension": ".py",
   "mimetype": "text/x-python",
   "name": "python",
   "nbconvert_exporter": "python",
   "pygments_lexer": "ipython3",
   "version": "3.7.10"
  }
 },
 "nbformat": 4,
 "nbformat_minor": 5
}
